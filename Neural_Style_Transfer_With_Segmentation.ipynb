{
  "nbformat": 4,
  "nbformat_minor": 0,
  "metadata": {
    "colab": {
      "name": "Neural Style Transfer With Segmentation.ipynb",
      "provenance": []
    },
    "kernelspec": {
      "name": "python3",
      "display_name": "Python 3"
    },
    "language_info": {
      "name": "python"
    },
    "accelerator": "GPU"
  },
  "cells": [
    {
      "cell_type": "code",
      "execution_count": null,
      "metadata": {
        "colab": {
          "base_uri": "https://localhost:8080/"
        },
        "id": "AnQdOWtz1W5w",
        "outputId": "466c610d-060d-4001-92fe-6b0215caac4f"
      },
      "outputs": [
        {
          "output_type": "stream",
          "name": "stdout",
          "text": [
            "fatal: destination path 'SaudNeuralStyleTransfer' already exists and is not an empty directory.\n"
          ]
        }
      ],
      "source": [
        "!git clone https://github.com/deijiokzen/SaudNeuralStyleTransfer.git"
      ]
    },
    {
      "cell_type": "markdown",
      "source": [
        ""
      ],
      "metadata": {
        "id": "v4WXlb-Z8Dxn"
      }
    },
    {
      "cell_type": "markdown",
      "source": [
        ""
      ],
      "metadata": {
        "id": "BQ2hmiro8Drn"
      }
    },
    {
      "cell_type": "code",
      "source": [
        "!python /content/SaudNeuralStyleTransfer/styleTransfer.py --path_content /content/SaudNeuralStyleTransfer/input/content/C1.png --path_stylized /content/SaudNeuralStyleTransfer/input/style/S4.jpg  --path_output ./saudahmed.jpg"
      ],
      "metadata": {
        "colab": {
          "base_uri": "https://localhost:8080/"
        },
        "id": "R4_RXWS01gZb",
        "outputId": "8529c973-f8aa-4a65-f2ce-0ea43044fe24"
      },
      "execution_count": null,
      "outputs": [
        {
          "output_type": "stream",
          "name": "stdout",
          "text": [
            "-(0, 64)-\n",
            "-(1, 128)-\n",
            "-(2, 256)-\n",
            "-(3, 512)-\n",
            "Done! total time: 144.10785937309265\n"
          ]
        }
      ]
    }
  ]
}